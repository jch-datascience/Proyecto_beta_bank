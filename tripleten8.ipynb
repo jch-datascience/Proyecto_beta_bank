{
  "cells": [
    {
      "cell_type": "markdown",
      "metadata": {
        "id": "hmcr9EMzZ2I-"
      },
      "source": [
        "**Descripción del proyecto**\n",
        "\n",
        "Los clientes de Beta Bank se están yendo, cada mes, poco a poco. Los banqueros descubrieron que es más barato salvar a los clientes existentes que atraer nuevos.\n",
        "Necesitamos predecir si un cliente dejará el banco pronto. Tú tienes los datos sobre el comportamiento pasado de los clientes y la terminación de contratos con el banco.\n",
        "Crea un modelo con el máximo valor F1 posible. Para aprobar la revisión, necesitas un valor F1 de al menos 0.59. Verifica F1 para el conjunto de prueba.\n",
        "Además, debes medir la métrica AUC-ROC y compararla con el valor F1."
      ]
    },
    {
      "cell_type": "markdown",
      "metadata": {
        "id": "oTjJVeXJZ2I-"
      },
      "source": [
        "### Tabla de Contenidos\n",
        "**Objetivos:**\n",
        "- 1. Descargar y prepar los datos\n",
        "- 2. Examinar el equilibrio de las clases, entrenar el modelo sin tener en cuenta el desequilibrio y describir brevemente los hallazgos\n",
        "- 3. Mejorar la calidad del modelo. Utilizar al menos dos enfoques para corregir el desequilibrio de clases.\n",
        "- 4. Realizar la prueba final.\n",
        "- 5. Conclusión general"
      ]
    },
    {
      "cell_type": "markdown",
      "metadata": {
        "id": "JPdRSro5Z2I-"
      },
      "source": [
        "## Descargamos y preparamos los datos"
      ]
    },
    {
      "cell_type": "code",
      "execution_count": null,
      "metadata": {
        "id": "-Y6MHo0KZ2I_"
      },
      "outputs": [],
      "source": [
        "# Cargamos las librerías necesarias\n",
        "import pandas as pd\n",
        "import numpy as np\n",
        "from sklearn.model_selection import train_test_split\n",
        "from sklearn.ensemble import RandomForestClassifier\n",
        "from sklearn.preprocessing import OrdinalEncoder\n",
        "from sklearn.metrics import (\n",
        "roc_auc_score, f1_score)"
      ]
    },
    {
      "cell_type": "code",
      "execution_count": null,
      "metadata": {
        "id": "Wli6BTZtZ2JA"
      },
      "outputs": [],
      "source": [
        "# Cargamos el DataFrame\n",
        "df = pd.read_csv(\"/datasets/Churn.csv\")"
      ]
    },
    {
      "cell_type": "code",
      "execution_count": null,
      "metadata": {
        "id": "psDxPVWaZ2JA",
        "outputId": "363a320b-ae9a-4324-d787-ae68fc57e7a8"
      },
      "outputs": [
        {
          "data": {
            "text/html": [
              "<div>\n",
              "<style scoped>\n",
              "    .dataframe tbody tr th:only-of-type {\n",
              "        vertical-align: middle;\n",
              "    }\n",
              "\n",
              "    .dataframe tbody tr th {\n",
              "        vertical-align: top;\n",
              "    }\n",
              "\n",
              "    .dataframe thead th {\n",
              "        text-align: right;\n",
              "    }\n",
              "</style>\n",
              "<table border=\"1\" class=\"dataframe\">\n",
              "  <thead>\n",
              "    <tr style=\"text-align: right;\">\n",
              "      <th></th>\n",
              "      <th>RowNumber</th>\n",
              "      <th>CustomerId</th>\n",
              "      <th>Surname</th>\n",
              "      <th>CreditScore</th>\n",
              "      <th>Geography</th>\n",
              "      <th>Gender</th>\n",
              "      <th>Age</th>\n",
              "      <th>Tenure</th>\n",
              "      <th>Balance</th>\n",
              "      <th>NumOfProducts</th>\n",
              "      <th>HasCrCard</th>\n",
              "      <th>IsActiveMember</th>\n",
              "      <th>EstimatedSalary</th>\n",
              "      <th>Exited</th>\n",
              "    </tr>\n",
              "  </thead>\n",
              "  <tbody>\n",
              "    <tr>\n",
              "      <th>0</th>\n",
              "      <td>1</td>\n",
              "      <td>15634602</td>\n",
              "      <td>Hargrave</td>\n",
              "      <td>619</td>\n",
              "      <td>France</td>\n",
              "      <td>Female</td>\n",
              "      <td>42</td>\n",
              "      <td>2.0</td>\n",
              "      <td>0.00</td>\n",
              "      <td>1</td>\n",
              "      <td>1</td>\n",
              "      <td>1</td>\n",
              "      <td>101348.88</td>\n",
              "      <td>1</td>\n",
              "    </tr>\n",
              "    <tr>\n",
              "      <th>1</th>\n",
              "      <td>2</td>\n",
              "      <td>15647311</td>\n",
              "      <td>Hill</td>\n",
              "      <td>608</td>\n",
              "      <td>Spain</td>\n",
              "      <td>Female</td>\n",
              "      <td>41</td>\n",
              "      <td>1.0</td>\n",
              "      <td>83807.86</td>\n",
              "      <td>1</td>\n",
              "      <td>0</td>\n",
              "      <td>1</td>\n",
              "      <td>112542.58</td>\n",
              "      <td>0</td>\n",
              "    </tr>\n",
              "    <tr>\n",
              "      <th>2</th>\n",
              "      <td>3</td>\n",
              "      <td>15619304</td>\n",
              "      <td>Onio</td>\n",
              "      <td>502</td>\n",
              "      <td>France</td>\n",
              "      <td>Female</td>\n",
              "      <td>42</td>\n",
              "      <td>8.0</td>\n",
              "      <td>159660.80</td>\n",
              "      <td>3</td>\n",
              "      <td>1</td>\n",
              "      <td>0</td>\n",
              "      <td>113931.57</td>\n",
              "      <td>1</td>\n",
              "    </tr>\n",
              "    <tr>\n",
              "      <th>3</th>\n",
              "      <td>4</td>\n",
              "      <td>15701354</td>\n",
              "      <td>Boni</td>\n",
              "      <td>699</td>\n",
              "      <td>France</td>\n",
              "      <td>Female</td>\n",
              "      <td>39</td>\n",
              "      <td>1.0</td>\n",
              "      <td>0.00</td>\n",
              "      <td>2</td>\n",
              "      <td>0</td>\n",
              "      <td>0</td>\n",
              "      <td>93826.63</td>\n",
              "      <td>0</td>\n",
              "    </tr>\n",
              "    <tr>\n",
              "      <th>4</th>\n",
              "      <td>5</td>\n",
              "      <td>15737888</td>\n",
              "      <td>Mitchell</td>\n",
              "      <td>850</td>\n",
              "      <td>Spain</td>\n",
              "      <td>Female</td>\n",
              "      <td>43</td>\n",
              "      <td>2.0</td>\n",
              "      <td>125510.82</td>\n",
              "      <td>1</td>\n",
              "      <td>1</td>\n",
              "      <td>1</td>\n",
              "      <td>79084.10</td>\n",
              "      <td>0</td>\n",
              "    </tr>\n",
              "    <tr>\n",
              "      <th>5</th>\n",
              "      <td>6</td>\n",
              "      <td>15574012</td>\n",
              "      <td>Chu</td>\n",
              "      <td>645</td>\n",
              "      <td>Spain</td>\n",
              "      <td>Male</td>\n",
              "      <td>44</td>\n",
              "      <td>8.0</td>\n",
              "      <td>113755.78</td>\n",
              "      <td>2</td>\n",
              "      <td>1</td>\n",
              "      <td>0</td>\n",
              "      <td>149756.71</td>\n",
              "      <td>1</td>\n",
              "    </tr>\n",
              "    <tr>\n",
              "      <th>6</th>\n",
              "      <td>7</td>\n",
              "      <td>15592531</td>\n",
              "      <td>Bartlett</td>\n",
              "      <td>822</td>\n",
              "      <td>France</td>\n",
              "      <td>Male</td>\n",
              "      <td>50</td>\n",
              "      <td>7.0</td>\n",
              "      <td>0.00</td>\n",
              "      <td>2</td>\n",
              "      <td>1</td>\n",
              "      <td>1</td>\n",
              "      <td>10062.80</td>\n",
              "      <td>0</td>\n",
              "    </tr>\n",
              "    <tr>\n",
              "      <th>7</th>\n",
              "      <td>8</td>\n",
              "      <td>15656148</td>\n",
              "      <td>Obinna</td>\n",
              "      <td>376</td>\n",
              "      <td>Germany</td>\n",
              "      <td>Female</td>\n",
              "      <td>29</td>\n",
              "      <td>4.0</td>\n",
              "      <td>115046.74</td>\n",
              "      <td>4</td>\n",
              "      <td>1</td>\n",
              "      <td>0</td>\n",
              "      <td>119346.88</td>\n",
              "      <td>1</td>\n",
              "    </tr>\n",
              "    <tr>\n",
              "      <th>8</th>\n",
              "      <td>9</td>\n",
              "      <td>15792365</td>\n",
              "      <td>He</td>\n",
              "      <td>501</td>\n",
              "      <td>France</td>\n",
              "      <td>Male</td>\n",
              "      <td>44</td>\n",
              "      <td>4.0</td>\n",
              "      <td>142051.07</td>\n",
              "      <td>2</td>\n",
              "      <td>0</td>\n",
              "      <td>1</td>\n",
              "      <td>74940.50</td>\n",
              "      <td>0</td>\n",
              "    </tr>\n",
              "    <tr>\n",
              "      <th>9</th>\n",
              "      <td>10</td>\n",
              "      <td>15592389</td>\n",
              "      <td>H?</td>\n",
              "      <td>684</td>\n",
              "      <td>France</td>\n",
              "      <td>Male</td>\n",
              "      <td>27</td>\n",
              "      <td>2.0</td>\n",
              "      <td>134603.88</td>\n",
              "      <td>1</td>\n",
              "      <td>1</td>\n",
              "      <td>1</td>\n",
              "      <td>71725.73</td>\n",
              "      <td>0</td>\n",
              "    </tr>\n",
              "  </tbody>\n",
              "</table>\n",
              "</div>"
            ],
            "text/plain": [
              "   RowNumber  CustomerId   Surname  CreditScore Geography  Gender  Age  \\\n",
              "0          1    15634602  Hargrave          619    France  Female   42   \n",
              "1          2    15647311      Hill          608     Spain  Female   41   \n",
              "2          3    15619304      Onio          502    France  Female   42   \n",
              "3          4    15701354      Boni          699    France  Female   39   \n",
              "4          5    15737888  Mitchell          850     Spain  Female   43   \n",
              "5          6    15574012       Chu          645     Spain    Male   44   \n",
              "6          7    15592531  Bartlett          822    France    Male   50   \n",
              "7          8    15656148    Obinna          376   Germany  Female   29   \n",
              "8          9    15792365        He          501    France    Male   44   \n",
              "9         10    15592389        H?          684    France    Male   27   \n",
              "\n",
              "   Tenure    Balance  NumOfProducts  HasCrCard  IsActiveMember  \\\n",
              "0     2.0       0.00              1          1               1   \n",
              "1     1.0   83807.86              1          0               1   \n",
              "2     8.0  159660.80              3          1               0   \n",
              "3     1.0       0.00              2          0               0   \n",
              "4     2.0  125510.82              1          1               1   \n",
              "5     8.0  113755.78              2          1               0   \n",
              "6     7.0       0.00              2          1               1   \n",
              "7     4.0  115046.74              4          1               0   \n",
              "8     4.0  142051.07              2          0               1   \n",
              "9     2.0  134603.88              1          1               1   \n",
              "\n",
              "   EstimatedSalary  Exited  \n",
              "0        101348.88       1  \n",
              "1        112542.58       0  \n",
              "2        113931.57       1  \n",
              "3         93826.63       0  \n",
              "4         79084.10       0  \n",
              "5        149756.71       1  \n",
              "6         10062.80       0  \n",
              "7        119346.88       1  \n",
              "8         74940.50       0  \n",
              "9         71725.73       0  "
            ]
          },
          "execution_count": 3,
          "metadata": {},
          "output_type": "execute_result"
        }
      ],
      "source": [
        "# Revisamos el DataFrame\n",
        "df.head(10)"
      ]
    },
    {
      "cell_type": "code",
      "execution_count": null,
      "metadata": {
        "scrolled": false,
        "id": "Phof7KDqZ2JB",
        "outputId": "9604a5b9-aced-4a24-870c-95728b2e78c2"
      },
      "outputs": [
        {
          "name": "stdout",
          "output_type": "stream",
          "text": [
            "<class 'pandas.core.frame.DataFrame'>\n",
            "RangeIndex: 10000 entries, 0 to 9999\n",
            "Data columns (total 14 columns):\n",
            " #   Column           Non-Null Count  Dtype  \n",
            "---  ------           --------------  -----  \n",
            " 0   RowNumber        10000 non-null  int64  \n",
            " 1   CustomerId       10000 non-null  int64  \n",
            " 2   Surname          10000 non-null  object \n",
            " 3   CreditScore      10000 non-null  int64  \n",
            " 4   Geography        10000 non-null  object \n",
            " 5   Gender           10000 non-null  object \n",
            " 6   Age              10000 non-null  int64  \n",
            " 7   Tenure           9091 non-null   float64\n",
            " 8   Balance          10000 non-null  float64\n",
            " 9   NumOfProducts    10000 non-null  int64  \n",
            " 10  HasCrCard        10000 non-null  int64  \n",
            " 11  IsActiveMember   10000 non-null  int64  \n",
            " 12  EstimatedSalary  10000 non-null  float64\n",
            " 13  Exited           10000 non-null  int64  \n",
            "dtypes: float64(3), int64(8), object(3)\n",
            "memory usage: 1.1+ MB\n"
          ]
        }
      ],
      "source": [
        "# Revisamos información general del DataFrame\n",
        "df.info()"
      ]
    },
    {
      "cell_type": "markdown",
      "metadata": {
        "id": "G80P-Ya5Z2JB"
      },
      "source": [
        "El DataFrame consta de 10000 filas y 14 columnas, donde **Exited** es nuestra variable objetivo."
      ]
    },
    {
      "cell_type": "markdown",
      "metadata": {
        "id": "mkRPFVdwZ2JB"
      },
      "source": [
        "A contunuación revisaremos si hay duplicados y valores ausentes."
      ]
    },
    {
      "cell_type": "code",
      "execution_count": null,
      "metadata": {
        "id": "yTDkTcqNZ2JB",
        "outputId": "be5c5cc1-d6b3-4d2b-d3ec-6ddfbe2a9361"
      },
      "outputs": [
        {
          "data": {
            "text/plain": [
              "0"
            ]
          },
          "execution_count": 5,
          "metadata": {},
          "output_type": "execute_result"
        }
      ],
      "source": [
        "# Revisamos duplicados\n",
        "df.duplicated().sum()"
      ]
    },
    {
      "cell_type": "code",
      "execution_count": null,
      "metadata": {
        "scrolled": true,
        "id": "ptgjknY_Z2JB",
        "outputId": "904b912c-4ff3-4b4e-baa3-a444be2d56ed"
      },
      "outputs": [
        {
          "data": {
            "text/plain": [
              "RowNumber            0\n",
              "CustomerId           0\n",
              "Surname              0\n",
              "CreditScore          0\n",
              "Geography            0\n",
              "Gender               0\n",
              "Age                  0\n",
              "Tenure             909\n",
              "Balance              0\n",
              "NumOfProducts        0\n",
              "HasCrCard            0\n",
              "IsActiveMember       0\n",
              "EstimatedSalary      0\n",
              "Exited               0\n",
              "dtype: int64"
            ]
          },
          "execution_count": 6,
          "metadata": {},
          "output_type": "execute_result"
        }
      ],
      "source": [
        "# Revisamos valores ausentes\n",
        "df.isna().sum()"
      ]
    },
    {
      "cell_type": "code",
      "execution_count": null,
      "metadata": {
        "id": "HAqRIpVQZ2JC",
        "outputId": "ea6ac127-7de2-40fc-c697-9b3c735a1ae9"
      },
      "outputs": [
        {
          "name": "stdout",
          "output_type": "stream",
          "text": [
            "porcentaje de NaN en 'Tenure': 9%\n"
          ]
        }
      ],
      "source": [
        "# Calculamos porcentaje de valores ausentes\n",
        "t_nan = df.Tenure.isna().sum() / len(df.Tenure)*100\n",
        "print(f\"porcentaje de NaN en 'Tenure': {int(t_nan)}%\")"
      ]
    },
    {
      "cell_type": "code",
      "execution_count": null,
      "metadata": {
        "scrolled": true,
        "id": "upMsmVmWZ2JC",
        "outputId": "550bd3fb-8202-4320-91f4-b16cf2515dde"
      },
      "outputs": [
        {
          "data": {
            "text/plain": [
              "count    9091.000000\n",
              "mean        4.997690\n",
              "std         2.894723\n",
              "min         0.000000\n",
              "25%         2.000000\n",
              "50%         5.000000\n",
              "75%         7.000000\n",
              "max        10.000000\n",
              "Name: Tenure, dtype: float64"
            ]
          },
          "execution_count": 8,
          "metadata": {},
          "output_type": "execute_result"
        }
      ],
      "source": [
        "# Revisamos la distribución de la columna\n",
        "df.Tenure.describe()"
      ]
    },
    {
      "cell_type": "code",
      "execution_count": null,
      "metadata": {
        "scrolled": true,
        "id": "wgH_9T2DZ2JC",
        "outputId": "4e996842-7d62-48a7-8e19-23818527d48a"
      },
      "outputs": [
        {
          "data": {
            "text/plain": [
              "1.0     952\n",
              "2.0     950\n",
              "8.0     933\n",
              "3.0     928\n",
              "5.0     927\n",
              "7.0     925\n",
              "4.0     885\n",
              "9.0     882\n",
              "6.0     881\n",
              "10.0    446\n",
              "0.0     382\n",
              "Name: Tenure, dtype: int64"
            ]
          },
          "execution_count": 9,
          "metadata": {},
          "output_type": "execute_result"
        }
      ],
      "source": [
        "df.Tenure.value_counts()"
      ]
    },
    {
      "cell_type": "markdown",
      "metadata": {
        "id": "Ne1nxixAZ2JC"
      },
      "source": [
        "En este caso la columna tiene un 9% de valores ausentes. Los imputaremos con la mediana de la columna debido a la variabilidad de los valores."
      ]
    },
    {
      "cell_type": "code",
      "execution_count": null,
      "metadata": {
        "scrolled": true,
        "id": "BxG2JpnRZ2JC"
      },
      "outputs": [],
      "source": [
        "# Imputamos con la mediana\n",
        "t_median = df.Tenure.median()\n",
        "df.Tenure.fillna(t_median, inplace=True)"
      ]
    },
    {
      "cell_type": "code",
      "execution_count": null,
      "metadata": {
        "id": "0wD5Ydt_Z2JD",
        "outputId": "a7b3ca3d-cfb3-4e5e-b30a-cd8861abc6d0"
      },
      "outputs": [
        {
          "data": {
            "text/plain": [
              "0"
            ]
          },
          "execution_count": 11,
          "metadata": {},
          "output_type": "execute_result"
        }
      ],
      "source": [
        "# Revisamos que esté todo en orden\n",
        "df.Tenure.isna().sum()"
      ]
    },
    {
      "cell_type": "markdown",
      "metadata": {
        "id": "u_-s-X15Z2JD"
      },
      "source": [
        "En este caso utilizaremos la **OrdinalEncoder** ya que tenemos columnas del tipo *object* (**Geography** y **Gender**) y entrenaremos un modelo RandomForestClassifier."
      ]
    },
    {
      "cell_type": "code",
      "execution_count": null,
      "metadata": {
        "id": "f7bpKQwBZ2JD"
      },
      "outputs": [],
      "source": [
        "# Utilizamos la codificación de etiquetas\n",
        "encoder = OrdinalEncoder()\n",
        "df[[\"Geography\", \"Gender\"]] = encoder.fit_transform(df[[\"Geography\", \"Gender\"]])"
      ]
    },
    {
      "cell_type": "code",
      "execution_count": null,
      "metadata": {
        "id": "ffB2e78cZ2JD",
        "outputId": "8d95971d-3c5b-4c50-865e-f3eaeab44a70"
      },
      "outputs": [
        {
          "data": {
            "text/html": [
              "<div>\n",
              "<style scoped>\n",
              "    .dataframe tbody tr th:only-of-type {\n",
              "        vertical-align: middle;\n",
              "    }\n",
              "\n",
              "    .dataframe tbody tr th {\n",
              "        vertical-align: top;\n",
              "    }\n",
              "\n",
              "    .dataframe thead th {\n",
              "        text-align: right;\n",
              "    }\n",
              "</style>\n",
              "<table border=\"1\" class=\"dataframe\">\n",
              "  <thead>\n",
              "    <tr style=\"text-align: right;\">\n",
              "      <th></th>\n",
              "      <th>RowNumber</th>\n",
              "      <th>CustomerId</th>\n",
              "      <th>Surname</th>\n",
              "      <th>CreditScore</th>\n",
              "      <th>Geography</th>\n",
              "      <th>Gender</th>\n",
              "      <th>Age</th>\n",
              "      <th>Tenure</th>\n",
              "      <th>Balance</th>\n",
              "      <th>NumOfProducts</th>\n",
              "      <th>HasCrCard</th>\n",
              "      <th>IsActiveMember</th>\n",
              "      <th>EstimatedSalary</th>\n",
              "      <th>Exited</th>\n",
              "    </tr>\n",
              "  </thead>\n",
              "  <tbody>\n",
              "    <tr>\n",
              "      <th>0</th>\n",
              "      <td>1</td>\n",
              "      <td>15634602</td>\n",
              "      <td>Hargrave</td>\n",
              "      <td>619</td>\n",
              "      <td>0.0</td>\n",
              "      <td>0.0</td>\n",
              "      <td>42</td>\n",
              "      <td>2.0</td>\n",
              "      <td>0.00</td>\n",
              "      <td>1</td>\n",
              "      <td>1</td>\n",
              "      <td>1</td>\n",
              "      <td>101348.88</td>\n",
              "      <td>1</td>\n",
              "    </tr>\n",
              "    <tr>\n",
              "      <th>1</th>\n",
              "      <td>2</td>\n",
              "      <td>15647311</td>\n",
              "      <td>Hill</td>\n",
              "      <td>608</td>\n",
              "      <td>2.0</td>\n",
              "      <td>0.0</td>\n",
              "      <td>41</td>\n",
              "      <td>1.0</td>\n",
              "      <td>83807.86</td>\n",
              "      <td>1</td>\n",
              "      <td>0</td>\n",
              "      <td>1</td>\n",
              "      <td>112542.58</td>\n",
              "      <td>0</td>\n",
              "    </tr>\n",
              "    <tr>\n",
              "      <th>2</th>\n",
              "      <td>3</td>\n",
              "      <td>15619304</td>\n",
              "      <td>Onio</td>\n",
              "      <td>502</td>\n",
              "      <td>0.0</td>\n",
              "      <td>0.0</td>\n",
              "      <td>42</td>\n",
              "      <td>8.0</td>\n",
              "      <td>159660.80</td>\n",
              "      <td>3</td>\n",
              "      <td>1</td>\n",
              "      <td>0</td>\n",
              "      <td>113931.57</td>\n",
              "      <td>1</td>\n",
              "    </tr>\n",
              "    <tr>\n",
              "      <th>3</th>\n",
              "      <td>4</td>\n",
              "      <td>15701354</td>\n",
              "      <td>Boni</td>\n",
              "      <td>699</td>\n",
              "      <td>0.0</td>\n",
              "      <td>0.0</td>\n",
              "      <td>39</td>\n",
              "      <td>1.0</td>\n",
              "      <td>0.00</td>\n",
              "      <td>2</td>\n",
              "      <td>0</td>\n",
              "      <td>0</td>\n",
              "      <td>93826.63</td>\n",
              "      <td>0</td>\n",
              "    </tr>\n",
              "    <tr>\n",
              "      <th>4</th>\n",
              "      <td>5</td>\n",
              "      <td>15737888</td>\n",
              "      <td>Mitchell</td>\n",
              "      <td>850</td>\n",
              "      <td>2.0</td>\n",
              "      <td>0.0</td>\n",
              "      <td>43</td>\n",
              "      <td>2.0</td>\n",
              "      <td>125510.82</td>\n",
              "      <td>1</td>\n",
              "      <td>1</td>\n",
              "      <td>1</td>\n",
              "      <td>79084.10</td>\n",
              "      <td>0</td>\n",
              "    </tr>\n",
              "    <tr>\n",
              "      <th>5</th>\n",
              "      <td>6</td>\n",
              "      <td>15574012</td>\n",
              "      <td>Chu</td>\n",
              "      <td>645</td>\n",
              "      <td>2.0</td>\n",
              "      <td>1.0</td>\n",
              "      <td>44</td>\n",
              "      <td>8.0</td>\n",
              "      <td>113755.78</td>\n",
              "      <td>2</td>\n",
              "      <td>1</td>\n",
              "      <td>0</td>\n",
              "      <td>149756.71</td>\n",
              "      <td>1</td>\n",
              "    </tr>\n",
              "    <tr>\n",
              "      <th>6</th>\n",
              "      <td>7</td>\n",
              "      <td>15592531</td>\n",
              "      <td>Bartlett</td>\n",
              "      <td>822</td>\n",
              "      <td>0.0</td>\n",
              "      <td>1.0</td>\n",
              "      <td>50</td>\n",
              "      <td>7.0</td>\n",
              "      <td>0.00</td>\n",
              "      <td>2</td>\n",
              "      <td>1</td>\n",
              "      <td>1</td>\n",
              "      <td>10062.80</td>\n",
              "      <td>0</td>\n",
              "    </tr>\n",
              "    <tr>\n",
              "      <th>7</th>\n",
              "      <td>8</td>\n",
              "      <td>15656148</td>\n",
              "      <td>Obinna</td>\n",
              "      <td>376</td>\n",
              "      <td>1.0</td>\n",
              "      <td>0.0</td>\n",
              "      <td>29</td>\n",
              "      <td>4.0</td>\n",
              "      <td>115046.74</td>\n",
              "      <td>4</td>\n",
              "      <td>1</td>\n",
              "      <td>0</td>\n",
              "      <td>119346.88</td>\n",
              "      <td>1</td>\n",
              "    </tr>\n",
              "    <tr>\n",
              "      <th>8</th>\n",
              "      <td>9</td>\n",
              "      <td>15792365</td>\n",
              "      <td>He</td>\n",
              "      <td>501</td>\n",
              "      <td>0.0</td>\n",
              "      <td>1.0</td>\n",
              "      <td>44</td>\n",
              "      <td>4.0</td>\n",
              "      <td>142051.07</td>\n",
              "      <td>2</td>\n",
              "      <td>0</td>\n",
              "      <td>1</td>\n",
              "      <td>74940.50</td>\n",
              "      <td>0</td>\n",
              "    </tr>\n",
              "    <tr>\n",
              "      <th>9</th>\n",
              "      <td>10</td>\n",
              "      <td>15592389</td>\n",
              "      <td>H?</td>\n",
              "      <td>684</td>\n",
              "      <td>0.0</td>\n",
              "      <td>1.0</td>\n",
              "      <td>27</td>\n",
              "      <td>2.0</td>\n",
              "      <td>134603.88</td>\n",
              "      <td>1</td>\n",
              "      <td>1</td>\n",
              "      <td>1</td>\n",
              "      <td>71725.73</td>\n",
              "      <td>0</td>\n",
              "    </tr>\n",
              "  </tbody>\n",
              "</table>\n",
              "</div>"
            ],
            "text/plain": [
              "   RowNumber  CustomerId   Surname  CreditScore  Geography  Gender  Age  \\\n",
              "0          1    15634602  Hargrave          619        0.0     0.0   42   \n",
              "1          2    15647311      Hill          608        2.0     0.0   41   \n",
              "2          3    15619304      Onio          502        0.0     0.0   42   \n",
              "3          4    15701354      Boni          699        0.0     0.0   39   \n",
              "4          5    15737888  Mitchell          850        2.0     0.0   43   \n",
              "5          6    15574012       Chu          645        2.0     1.0   44   \n",
              "6          7    15592531  Bartlett          822        0.0     1.0   50   \n",
              "7          8    15656148    Obinna          376        1.0     0.0   29   \n",
              "8          9    15792365        He          501        0.0     1.0   44   \n",
              "9         10    15592389        H?          684        0.0     1.0   27   \n",
              "\n",
              "   Tenure    Balance  NumOfProducts  HasCrCard  IsActiveMember  \\\n",
              "0     2.0       0.00              1          1               1   \n",
              "1     1.0   83807.86              1          0               1   \n",
              "2     8.0  159660.80              3          1               0   \n",
              "3     1.0       0.00              2          0               0   \n",
              "4     2.0  125510.82              1          1               1   \n",
              "5     8.0  113755.78              2          1               0   \n",
              "6     7.0       0.00              2          1               1   \n",
              "7     4.0  115046.74              4          1               0   \n",
              "8     4.0  142051.07              2          0               1   \n",
              "9     2.0  134603.88              1          1               1   \n",
              "\n",
              "   EstimatedSalary  Exited  \n",
              "0        101348.88       1  \n",
              "1        112542.58       0  \n",
              "2        113931.57       1  \n",
              "3         93826.63       0  \n",
              "4         79084.10       0  \n",
              "5        149756.71       1  \n",
              "6         10062.80       0  \n",
              "7        119346.88       1  \n",
              "8         74940.50       0  \n",
              "9         71725.73       0  "
            ]
          },
          "execution_count": 13,
          "metadata": {},
          "output_type": "execute_result"
        }
      ],
      "source": [
        "# Revisamos los nuevos valores\n",
        "df.head(10)"
      ]
    },
    {
      "cell_type": "markdown",
      "metadata": {
        "id": "p-2PGuy8Z2JD"
      },
      "source": [
        "**Ahora dividiremos el conjunto de datos en un conjunto de entrenamiento (80%) y un conjunto de prueba (20%).**\n",
        "\n",
        "- **Exited** en nuestra variable objetivo.\n",
        "- En este caso \"Exited\", \"Surname\", \"CustomerId\" y \"RowNumber\" **NO** los consideraremos como features.\n"
      ]
    },
    {
      "cell_type": "code",
      "execution_count": null,
      "metadata": {
        "id": "RXBHE7ShZ2JD"
      },
      "outputs": [],
      "source": [
        "# Definimos el Target y los Features\n",
        "target = \"Exited\"\n",
        "\n",
        "features = df.drop(columns=[\"Exited\", \"Surname\", \"CustomerId\", \"RowNumber\" ]).columns.values"
      ]
    },
    {
      "cell_type": "markdown",
      "metadata": {
        "id": "1qs-sAcEZ2JE"
      },
      "source": [
        "## Examinamos el equilibrio de las clases, entrenamos el modelo sin tener en cuenta el desequilibrio y describimos brevemente los hallazgos."
      ]
    },
    {
      "cell_type": "code",
      "execution_count": null,
      "metadata": {
        "scrolled": true,
        "id": "xCFEmJtOZ2JE",
        "outputId": "bc29b810-0c40-4730-e96a-e0bb30cf5dbf"
      },
      "outputs": [
        {
          "data": {
            "text/plain": [
              "0    0.7963\n",
              "1    0.2037\n",
              "Name: Exited, dtype: float64"
            ]
          },
          "execution_count": 15,
          "metadata": {},
          "output_type": "execute_result"
        }
      ],
      "source": [
        "# Examinamos el equilibrio de las clases\n",
        "df.Exited.value_counts(normalize=True)"
      ]
    },
    {
      "cell_type": "markdown",
      "metadata": {
        "id": "5q2v-JmLZ2JE"
      },
      "source": [
        "En este caso el 20% de los clientes han abandonado este banco (20% de los valores son 1)."
      ]
    },
    {
      "cell_type": "markdown",
      "metadata": {
        "id": "eoA3QOsqZ2JE"
      },
      "source": [
        "Ahora dividiremos el conjunto de datos en un conjunto de entrenamiento (80%) y un conjunto de prueba (20%)."
      ]
    },
    {
      "cell_type": "code",
      "execution_count": null,
      "metadata": {
        "id": "c2waPVUtZ2JE"
      },
      "outputs": [],
      "source": [
        "# Dividimos el conjunto de datos\n",
        "random_state = 42\n",
        "\n",
        "X_full_train, X_test, y_full_train, y_test = train_test_split(df[features],\n",
        "                                                             df[target],\n",
        "                                                             test_size=0.2,\n",
        "                                                             random_state=random_state)"
      ]
    },
    {
      "cell_type": "code",
      "execution_count": null,
      "metadata": {
        "id": "44V9ndxQZ2JE"
      },
      "outputs": [],
      "source": [
        "# Entrenamos un modelo RandomForestClassifier\n",
        "model = RandomForestClassifier(random_state=random_state)\n",
        "model.fit(X_full_train, y_full_train)\n",
        "\n",
        "#predictions = model.predict(X_test)\n",
        "predictions = model.predict_proba(X_test)[:,1]"
      ]
    },
    {
      "cell_type": "code",
      "execution_count": null,
      "metadata": {
        "id": "F-12s9QGZ2JF",
        "outputId": "09cabb84-a654-4d8b-bf0f-f9129306797c"
      },
      "outputs": [
        {
          "name": "stdout",
          "output_type": "stream",
          "text": [
            "\n",
            "F1 Score: 0.5772230889235569\n",
            "ROC AUC: 0.8576749937851417\n",
            "\n"
          ]
        }
      ],
      "source": [
        "# Visualizamos el rendimiento del modelo de acuerdo a las métricas F1 Score y ROC AUC.\n",
        "print(F\"\"\"\n",
        "F1 Score: {f1_score(y_test, predictions >= 0.5)}\n",
        "ROC AUC: {roc_auc_score(y_test, predictions)}\n",
        "\"\"\")"
      ]
    },
    {
      "cell_type": "markdown",
      "metadata": {
        "id": "cHzTTU7hZ2JF"
      },
      "source": [
        "- El rendimiento de acuerdo al valor ROC AUC es de 0.85, bastante cercano a 1. En este caso el valor es más alto debido a que hay un desequilibrio en los datos.\n",
        "\n",
        "- En el caso de F1 Score el rendimiento es de 0.57. Al contrario, este tiende a bajar cuando hay un desequilibrio en los datos."
      ]
    },
    {
      "cell_type": "markdown",
      "metadata": {
        "id": "-Y7hmO8gZ2JF"
      },
      "source": [
        "## Mejoramos la calidad del modelo. Utilizaremos al menos dos enfoques para corregir el desequilibrio de clases.\n",
        "Además utilizaremos conjuntos de entrenamiento y validación para encontrar el mejor modelo y el mejor conjunto de parámetros. También entrenaremos diferentes modelos en los conjuntos de entrenamiento y validación para encontrar el mejor."
      ]
    },
    {
      "cell_type": "code",
      "execution_count": null,
      "metadata": {
        "id": "NwS7C4FhZ2JF"
      },
      "outputs": [],
      "source": [
        "# Creamos una muestra de validación\n",
        "X_train, X_valid, y_train, y_valid = train_test_split(X_full_train,\n",
        "                                                      y_full_train,\n",
        "                                                      test_size=0.2,\n",
        "                                                      random_state=random_state)"
      ]
    },
    {
      "cell_type": "markdown",
      "metadata": {
        "id": "9hM2vXAzZ2JJ"
      },
      "source": [
        "### Ajustamos el peso de las clases\n",
        "\n",
        "Probaremos distintos hiperparámetros para \"class_weight\""
      ]
    },
    {
      "cell_type": "code",
      "execution_count": null,
      "metadata": {
        "id": "oSwYMoeUZ2JJ",
        "outputId": "a355631c-de66-41f7-cfc5-07e91c1f057a"
      },
      "outputs": [
        {
          "name": "stdout",
          "output_type": "stream",
          "text": [
            "CPU times: user 1.04 s, sys: 12.1 ms, total: 1.06 s\n",
            "Wall time: 1.07 s\n"
          ]
        }
      ],
      "source": [
        "%%time\n",
        "adjusted_model = RandomForestClassifier(random_state=random_state, class_weight=\"balanced\")\n",
        "adjusted_model.fit(X_train, y_train)\n",
        "\n",
        "adjusted_predictions = adjusted_model.predict_proba(X_valid)[:,1]\n"
      ]
    },
    {
      "cell_type": "code",
      "execution_count": null,
      "metadata": {
        "scrolled": true,
        "id": "cKe4r137Z2JK",
        "outputId": "4c7cd1e5-b1bc-47fd-95c5-760e30da6b7c"
      },
      "outputs": [
        {
          "name": "stdout",
          "output_type": "stream",
          "text": [
            "\n",
            "F1 Score: 0.5831775700934579\n",
            "ROC AUC: 0.8570918944629822\n",
            "\n"
          ]
        }
      ],
      "source": [
        "print(F\"\"\"\n",
        "F1 Score: {f1_score(y_valid, adjusted_predictions >= 0.5)}\n",
        "ROC AUC: {roc_auc_score(y_valid, adjusted_predictions)}\n",
        "\"\"\")"
      ]
    },
    {
      "cell_type": "code",
      "execution_count": null,
      "metadata": {
        "scrolled": true,
        "id": "2CsA2PQBZ2JK",
        "outputId": "1a3d9559-a87a-4fe1-9dec-0732a69e4e70"
      },
      "outputs": [
        {
          "name": "stdout",
          "output_type": "stream",
          "text": [
            "CPU times: user 1.21 s, sys: 7.88 ms, total: 1.22 s\n",
            "Wall time: 1.23 s\n"
          ]
        }
      ],
      "source": [
        "%%time\n",
        "adjusted_sub_model = RandomForestClassifier(random_state=random_state, class_weight=\"balanced_subsample\")\n",
        "adjusted_sub_model.fit(X_train, y_train)\n",
        "\n",
        "adjusted_sub_predictions = adjusted_sub_model.predict_proba(X_valid)[:,1]"
      ]
    },
    {
      "cell_type": "code",
      "execution_count": null,
      "metadata": {
        "scrolled": true,
        "id": "Ue10LBxQZ2JK",
        "outputId": "70515a21-958a-44c4-d70b-3715cf4e18f1"
      },
      "outputs": [
        {
          "name": "stdout",
          "output_type": "stream",
          "text": [
            "\n",
            "F1 Score: 0.5897920604914935\n",
            "ROC AUC: 0.8553190109327818\n",
            "\n"
          ]
        }
      ],
      "source": [
        "print(F\"\"\"\n",
        "F1 Score: {f1_score(y_valid, adjusted_sub_predictions >= 0.5)}\n",
        "ROC AUC: {roc_auc_score(y_valid, adjusted_sub_predictions)}\n",
        "\"\"\")"
      ]
    },
    {
      "cell_type": "markdown",
      "metadata": {
        "id": "hSBN3vqsZ2JK"
      },
      "source": [
        "- Al ajustar el peso de las clases obtenemos resultados ligeramente diferentes.\n",
        "- Al utilizar el conjunto de validación obtenemos resultados de las métricas muy similares en relación a los resultados del conjunto de prueba."
      ]
    },
    {
      "cell_type": "markdown",
      "metadata": {
        "id": "HU6KhoG8Z2JK"
      },
      "source": [
        "### Cambiamos el umbral"
      ]
    },
    {
      "cell_type": "code",
      "execution_count": null,
      "metadata": {
        "id": "NoiRb2yJZ2JK",
        "outputId": "215caa09-ca60-482b-81c2-01e82bed3285"
      },
      "outputs": [
        {
          "name": "stdout",
          "output_type": "stream",
          "text": [
            "CPU times: user 1.06 s, sys: 12.2 ms, total: 1.07 s\n",
            "Wall time: 1.07 s\n"
          ]
        }
      ],
      "source": [
        "%%time\n",
        "threshold_model = RandomForestClassifier(random_state=random_state)\n",
        "threshold_model.fit(X_train, y_train)\n",
        "\n",
        "threshold_predictions = threshold_model.predict_proba(X_valid)[:,1]"
      ]
    },
    {
      "cell_type": "code",
      "execution_count": null,
      "metadata": {
        "id": "B63TZAnTZ2JL",
        "outputId": "edbfb431-d63c-4717-f5c8-dcdc71204324"
      },
      "outputs": [
        {
          "name": "stdout",
          "output_type": "stream",
          "text": [
            "Best Threshold: 0.38\n"
          ]
        }
      ],
      "source": [
        "# Buscamos el mejor umbral para la métrica F1\n",
        "best_threshold = 0\n",
        "best_f1_score = 0\n",
        "\n",
        "for t in np.linspace(0, 1, 101):\n",
        "    f1_score_tmp = f1_score(y_valid, threshold_predictions >= t)\n",
        "    if f1_score_tmp > best_f1_score:\n",
        "        best_f1_score = f1_score_tmp\n",
        "        best_threshold = t\n",
        "\n",
        "print(f\"Best Threshold: {best_threshold}\")"
      ]
    },
    {
      "cell_type": "code",
      "execution_count": null,
      "metadata": {
        "id": "_ObE0-3nZ2JL",
        "outputId": "321fd150-29dc-4123-8190-ac3b50a860aa"
      },
      "outputs": [
        {
          "name": "stdout",
          "output_type": "stream",
          "text": [
            "\n",
            "F1 Score: 0.6224328593996841\n",
            "ROC AUC: 0.8527245472300496\n",
            "\n"
          ]
        }
      ],
      "source": [
        "print(F\"\"\"\n",
        "F1 Score: {f1_score(y_valid, threshold_predictions >= best_threshold)}\n",
        "ROC AUC: {roc_auc_score(y_valid, threshold_predictions)}\n",
        "\"\"\")"
      ]
    },
    {
      "cell_type": "markdown",
      "metadata": {
        "id": "jvq_kGzlZ2JL"
      },
      "source": [
        "Cómo se puede ver, al modificar el umbral el rendimiento respecto a F1 Score, mejora. Sube de 0.58 a 0.62."
      ]
    },
    {
      "cell_type": "markdown",
      "metadata": {
        "id": "Jmxy5u_ZZ2JL"
      },
      "source": [
        "## Realizamos la prueba final"
      ]
    },
    {
      "cell_type": "markdown",
      "metadata": {
        "id": "XvgU6An5Z2JL"
      },
      "source": [
        "En este caso no modificaremos **class_weight** debido a que el cambio generado es minúsculo.\n",
        "\n",
        "- Realizamos una prueba final con el conjunto de validación."
      ]
    },
    {
      "cell_type": "code",
      "execution_count": null,
      "metadata": {
        "id": "SkulwRQNZ2JM",
        "outputId": "afb7aa63-eb44-4cb3-e791-dd12fcfd5a46"
      },
      "outputs": [
        {
          "name": "stdout",
          "output_type": "stream",
          "text": [
            "CPU times: user 1.05 s, sys: 12 ms, total: 1.06 s\n",
            "Wall time: 1.08 s\n"
          ]
        }
      ],
      "source": [
        "%%time\n",
        "tuned_model = RandomForestClassifier(random_state=random_state)\n",
        "tuned_model.fit(X_train, y_train)\n",
        "\n",
        "tuned_valid_predictions = tuned_model.predict_proba(X_valid)[:,1]"
      ]
    },
    {
      "cell_type": "code",
      "execution_count": null,
      "metadata": {
        "id": "lflIbi9EZ2JM",
        "outputId": "10480b93-d13c-450e-d15a-106e0f26a578"
      },
      "outputs": [
        {
          "name": "stdout",
          "output_type": "stream",
          "text": [
            "Best Threshold: 0.38\n"
          ]
        }
      ],
      "source": [
        "# Buscamos el mejor umbral para la métrica F1\n",
        "best_threshold = 0\n",
        "best_f1_score = 0\n",
        "\n",
        "for t in np.linspace(0, 1, 101):\n",
        "    f1_score_tmp = f1_score(y_valid, tuned_valid_predictions >= t)\n",
        "    if f1_score_tmp > best_f1_score:\n",
        "        best_f1_score = f1_score_tmp\n",
        "        best_threshold = t\n",
        "\n",
        "print(f\"Best Threshold: {round(best_threshold, 4)}\")"
      ]
    },
    {
      "cell_type": "code",
      "execution_count": null,
      "metadata": {
        "scrolled": true,
        "id": "cKdrcNqeZ2JM",
        "outputId": "c06bdb8f-7de2-414a-b365-6a85e73374ce"
      },
      "outputs": [
        {
          "name": "stdout",
          "output_type": "stream",
          "text": [
            "\n",
            "Validation Results:\n",
            "F1 Score: 0.6224328593996841\n",
            "ROC AUC: 0.8527245472300496\n",
            "\n"
          ]
        }
      ],
      "source": [
        "# Resultados para el conjunto de validación\n",
        "print(F\"\"\"\n",
        "Validation Results:\n",
        "F1 Score: {f1_score(y_valid, tuned_valid_predictions >= best_threshold)}\n",
        "ROC AUC: {roc_auc_score(y_valid, tuned_valid_predictions)}\n",
        "\"\"\")"
      ]
    },
    {
      "cell_type": "markdown",
      "metadata": {
        "id": "i802zg2bZ2JM"
      },
      "source": [
        "### Modelo Final"
      ]
    },
    {
      "cell_type": "code",
      "execution_count": null,
      "metadata": {
        "id": "SRjWwNJNZ2JM",
        "outputId": "ccbe900e-e728-4b23-8506-4cdd2bffb4ec"
      },
      "outputs": [
        {
          "name": "stdout",
          "output_type": "stream",
          "text": [
            "CPU times: user 1.32 s, sys: 19.8 ms, total: 1.34 s\n",
            "Wall time: 1.36 s\n"
          ]
        }
      ],
      "source": [
        "%%time\n",
        "final_model = RandomForestClassifier(random_state=random_state)\n",
        "final_model.fit(X_full_train, y_full_train)\n",
        "\n",
        "final_test_predictions = final_model.predict_proba(X_test)[:,1]"
      ]
    },
    {
      "cell_type": "code",
      "execution_count": null,
      "metadata": {
        "id": "p8383MpnZ2JN",
        "outputId": "050412a5-8dfd-4076-8d82-44c88b5696bc"
      },
      "outputs": [
        {
          "name": "stdout",
          "output_type": "stream",
          "text": [
            "\n",
            "Test Results:\n",
            "F1 Score: 0.6201342281879195\n",
            "ROC AUC: 0.8576749937851417\n",
            "\n"
          ]
        }
      ],
      "source": [
        "# Resultados para el conjunto de prueba\n",
        "print(F\"\"\"\n",
        "Test Results:\n",
        "F1 Score: {f1_score(y_test, final_test_predictions >= best_threshold)}\n",
        "ROC AUC: {roc_auc_score(y_test, final_test_predictions)}\n",
        "\"\"\")\n",
        "\n",
        "final_test_predictions = final_model.predict_proba(X_test)[:,1]"
      ]
    },
    {
      "cell_type": "markdown",
      "metadata": {
        "id": "Bn1SqfvrZ2JN"
      },
      "source": [
        "Para nuestro modelo final y luego de hacer algunas pruebas y ajustes obtuvimos los siguientes rendimientos.\n",
        "\n",
        "- f1 Score: 0.62\n",
        "- ROC AUC: 0.85"
      ]
    },
    {
      "cell_type": "markdown",
      "metadata": {
        "id": "qKXysz5kZ2JN"
      },
      "source": [
        "## Conclución general"
      ]
    },
    {
      "cell_type": "markdown",
      "metadata": {
        "id": "jZlQvvqUZ2JN"
      },
      "source": [
        "1.- En este estudio:\n",
        "- 1. Descargamos y prepamos los datos\n",
        "- 2. Examinamos el equilibrio de las clases, entrenamos el modelo sin tener en cuenta el desequilibrio.\n",
        "- 3. Mejoramos la calidad del modelo. Utilizamos al menos dos enfoques para corregir el desequilibrio de clases.\n",
        "- 4. Realizamos la prueba final.\n",
        "\n",
        "2.- Al examinar el equilibrio de clases:\n",
        " -  el 20% de los clientes abandonó el banco (20% de los valores son 1)\n",
        " -  Al entrenar el modelo:\n",
        "  - El rendimiento de acuerdo al valor ROC AUC es de 0.85, bastante cercano a 1. En este caso el valor es más alto debido a que hay un desequilibrio en los datos.\n",
        "\n",
        "  - En el caso de F1 Score el rendimiento es de 0.57. Al contrario, este tiende a bajar cuando hay un desequilibrio en los datos.\n",
        "\n",
        "3.- Al ajustar el peso de las clases:\n",
        " - Hubo un cambio ligero en el rendimiento de acuerdo a las métricas.\n",
        "\n",
        "4.- Al modificar el umbral:\n",
        " - El rendimiento respecto a F1 Score, mejora. Sube de 0.58 a 0.62.\n",
        "\n",
        "5.- Al realizar el modelo final obtuvimos los siguientes rendimientos:\n",
        " - f1 Score: 0.62\n",
        " - ROC AUC: 0.85\n",
        "  - En este caso el valor de ROC AUC fue mayor debido al desequilibrio de clases. Por el contrario, el valor de f1 Score fue menor debido al mismo motivo."
      ]
    }
  ],
  "metadata": {
    "kernelspec": {
      "display_name": "Python 3 (ipykernel)",
      "language": "python",
      "name": "python3"
    },
    "language_info": {
      "codemirror_mode": {
        "name": "ipython",
        "version": 3
      },
      "file_extension": ".py",
      "mimetype": "text/x-python",
      "name": "python",
      "nbconvert_exporter": "python",
      "pygments_lexer": "ipython3",
      "version": "3.9.5"
    },
    "toc": {
      "base_numbering": 1,
      "nav_menu": {},
      "number_sections": true,
      "sideBar": true,
      "skip_h1_title": true,
      "title_cell": "Table of Contents",
      "title_sidebar": "Contents",
      "toc_cell": false,
      "toc_position": {},
      "toc_section_display": true,
      "toc_window_display": false
    },
    "colab": {
      "provenance": []
    }
  },
  "nbformat": 4,
  "nbformat_minor": 0
}